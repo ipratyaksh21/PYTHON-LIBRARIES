{
 "cells": [
  {
   "cell_type": "code",
   "execution_count": 1,
   "id": "40c3c1a1",
   "metadata": {},
   "outputs": [],
   "source": [
    "import numpy as np"
   ]
  },
  {
   "cell_type": "code",
   "execution_count": 2,
   "id": "9ed96f7a",
   "metadata": {},
   "outputs": [
    {
     "name": "stdout",
     "output_type": "stream",
     "text": [
      "[[1 2 3]\n",
      " [4 5 6]\n",
      " [7 8 9]]\n"
     ]
    }
   ],
   "source": [
    "x = np.array([[1,2,3],[4,5,6],[7,8,9]])\n",
    "print(x)"
   ]
  },
  {
   "cell_type": "code",
   "execution_count": 3,
   "id": "4a1655f7",
   "metadata": {},
   "outputs": [
    {
     "data": {
      "text/plain": [
       "(3, 3)"
      ]
     },
     "execution_count": 3,
     "metadata": {},
     "output_type": "execute_result"
    }
   ],
   "source": [
    "x.shape"
   ]
  },
  {
   "cell_type": "code",
   "execution_count": 4,
   "id": "c15fef5e",
   "metadata": {},
   "outputs": [
    {
     "data": {
      "text/plain": [
       "array([[1, 4, 7],\n",
       "       [2, 5, 8],\n",
       "       [3, 6, 9]])"
      ]
     },
     "execution_count": 4,
     "metadata": {},
     "output_type": "execute_result"
    }
   ],
   "source": [
    "x.T"
   ]
  },
  {
   "cell_type": "code",
   "execution_count": 5,
   "id": "745a9751",
   "metadata": {},
   "outputs": [
    {
     "name": "stdout",
     "output_type": "stream",
     "text": [
      "[[1 2 3]\n",
      " [4 5 6]\n",
      " [7 8 9]]\n"
     ]
    }
   ],
   "source": [
    "print(x)"
   ]
  },
  {
   "cell_type": "code",
   "execution_count": 6,
   "id": "f95208b7",
   "metadata": {},
   "outputs": [
    {
     "data": {
      "text/plain": [
       "array([12, 15, 18])"
      ]
     },
     "execution_count": 6,
     "metadata": {},
     "output_type": "execute_result"
    }
   ],
   "source": [
    "x.sum(axis=0)"
   ]
  },
  {
   "cell_type": "code",
   "execution_count": 7,
   "id": "ab7fa27c",
   "metadata": {},
   "outputs": [
    {
     "data": {
      "text/plain": [
       "array([ 6, 15, 24])"
      ]
     },
     "execution_count": 7,
     "metadata": {},
     "output_type": "execute_result"
    }
   ],
   "source": [
    "x.sum(axis=1)"
   ]
  },
  {
   "cell_type": "code",
   "execution_count": 8,
   "id": "c6e31eff",
   "metadata": {},
   "outputs": [
    {
     "name": "stdout",
     "output_type": "stream",
     "text": [
      "[[0. 0. 0.]\n",
      " [0. 0. 0.]\n",
      " [0. 0. 0.]]\n"
     ]
    }
   ],
   "source": [
    "# Creating a 3D Array\n",
    "x = np.zeros((3,3))\n",
    "print(x)"
   ]
  },
  {
   "cell_type": "code",
   "execution_count": 9,
   "id": "86ca6b1d",
   "metadata": {},
   "outputs": [
    {
     "name": "stdout",
     "output_type": "stream",
     "text": [
      "[[1. 1. 1.]\n",
      " [1. 1. 1.]\n",
      " [1. 1. 1.]]\n"
     ]
    },
    {
     "data": {
      "text/plain": [
       "(3, 3)"
      ]
     },
     "execution_count": 9,
     "metadata": {},
     "output_type": "execute_result"
    }
   ],
   "source": [
    "x = np.ones((3,3))\n",
    "print(x)\n",
    "x.shape"
   ]
  },
  {
   "cell_type": "code",
   "execution_count": 10,
   "id": "b19364ff",
   "metadata": {},
   "outputs": [
    {
     "name": "stdout",
     "output_type": "stream",
     "text": [
      "[1 2 3 4 5 6 7]\n",
      "4\n",
      "[1 2 3 4]\n"
     ]
    }
   ],
   "source": [
    "a = np.array([1,2,3,4,5,6,7])\n",
    "print(a)\n",
    "print(a[3])\n",
    "print(a[0:4])\n",
    "\n"
   ]
  },
  {
   "cell_type": "code",
   "execution_count": 11,
   "id": "98a2a2f3",
   "metadata": {},
   "outputs": [
    {
     "name": "stdout",
     "output_type": "stream",
     "text": [
      "[ 1  2 11  4  5  6  7]\n"
     ]
    }
   ],
   "source": [
    "# modifying an Array\n",
    "\n",
    "a[2]=11\n",
    "print(a)"
   ]
  },
  {
   "cell_type": "code",
   "execution_count": 12,
   "id": "161fef9f",
   "metadata": {},
   "outputs": [
    {
     "name": "stdout",
     "output_type": "stream",
     "text": [
      "[[11 12 13]\n",
      " [ 1  1  1]]\n"
     ]
    }
   ],
   "source": [
    "a = np.array([[11,12,13],[1,1,1]])\n",
    "print(a)"
   ]
  },
  {
   "cell_type": "code",
   "execution_count": 13,
   "id": "6be31c59",
   "metadata": {},
   "outputs": [
    {
     "name": "stdout",
     "output_type": "stream",
     "text": [
      "11\n",
      "1\n"
     ]
    }
   ],
   "source": [
    "# Accesing an element\n",
    "\n",
    "print(a[0,0])\n",
    "print(a[1,2])"
   ]
  },
  {
   "cell_type": "code",
   "execution_count": 14,
   "id": "64dd470c",
   "metadata": {},
   "outputs": [
    {
     "name": "stdout",
     "output_type": "stream",
     "text": [
      "[[  1  11 101]\n",
      " [  2  22 222]\n",
      " [ 31  32  33]]\n"
     ]
    },
    {
     "data": {
      "text/plain": [
       "(3, 3)"
      ]
     },
     "execution_count": 14,
     "metadata": {},
     "output_type": "execute_result"
    }
   ],
   "source": [
    "z = np.array([[1,11,101],[2,22,222],[31,32,33]])\n",
    "print(z)\n",
    "z.shape"
   ]
  },
  {
   "cell_type": "code",
   "execution_count": 15,
   "id": "dfe3a342",
   "metadata": {},
   "outputs": [
    {
     "data": {
      "text/plain": [
       "222"
      ]
     },
     "execution_count": 15,
     "metadata": {},
     "output_type": "execute_result"
    }
   ],
   "source": [
    "z[1,2]"
   ]
  },
  {
   "cell_type": "code",
   "execution_count": 16,
   "id": "e710c34e",
   "metadata": {},
   "outputs": [
    {
     "name": "stdout",
     "output_type": "stream",
     "text": [
      "[[  1  11 101]\n",
      " [  2  22 222]\n",
      " [  0  32  33]]\n"
     ]
    }
   ],
   "source": [
    "# Modifying an element\n",
    "z[2,0]= 00\n",
    "print(z)"
   ]
  },
  {
   "cell_type": "code",
   "execution_count": 17,
   "id": "973be041",
   "metadata": {},
   "outputs": [
    {
     "data": {
      "text/plain": [
       "array([[  1,   2,   0],\n",
       "       [ 11,  22,  32],\n",
       "       [101, 222,  33]])"
      ]
     },
     "execution_count": 17,
     "metadata": {},
     "output_type": "execute_result"
    }
   ],
   "source": [
    "z.T\n"
   ]
  },
  {
   "cell_type": "code",
   "execution_count": 18,
   "id": "f0e0dca0",
   "metadata": {},
   "outputs": [
    {
     "data": {
      "text/plain": [
       "2"
      ]
     },
     "execution_count": 18,
     "metadata": {},
     "output_type": "execute_result"
    }
   ],
   "source": [
    "z.ndim # returns dimensions"
   ]
  },
  {
   "cell_type": "code",
   "execution_count": 19,
   "id": "877c2cde",
   "metadata": {},
   "outputs": [
    {
     "data": {
      "text/plain": [
       "dtype('int32')"
      ]
     },
     "execution_count": 19,
     "metadata": {},
     "output_type": "execute_result"
    }
   ],
   "source": [
    "z.dtype"
   ]
  },
  {
   "cell_type": "code",
   "execution_count": 20,
   "id": "3118c76e",
   "metadata": {},
   "outputs": [
    {
     "name": "stdout",
     "output_type": "stream",
     "text": [
      "[[[ 1  2  3]\n",
      "  [ 4  5  6]]\n",
      "\n",
      " [[ 1  1  1]\n",
      "  [ 2  2  2]]\n",
      "\n",
      " [[11 12 13]\n",
      "  [14 15 16]]]\n",
      "3\n"
     ]
    }
   ],
   "source": [
    "m = np.array([[[1,2,3],[4,5,6]],[[1,1,1],[2,2,2]],[[11,12,13],[14,15,16]]])\n",
    "print(m)\n",
    "print(m.ndim)\n"
   ]
  },
  {
   "cell_type": "code",
   "execution_count": 21,
   "id": "87f2d57e",
   "metadata": {},
   "outputs": [
    {
     "data": {
      "text/plain": [
       "13"
      ]
     },
     "execution_count": 21,
     "metadata": {},
     "output_type": "execute_result"
    }
   ],
   "source": [
    "m[2][0][2]"
   ]
  },
  {
   "cell_type": "code",
   "execution_count": 22,
   "id": "dca68f55",
   "metadata": {},
   "outputs": [
    {
     "data": {
      "text/plain": [
       "16"
      ]
     },
     "execution_count": 22,
     "metadata": {},
     "output_type": "execute_result"
    }
   ],
   "source": [
    "# Print 16 from the array\n",
    "m[2,1,2]"
   ]
  },
  {
   "cell_type": "code",
   "execution_count": 23,
   "id": "e097400c",
   "metadata": {},
   "outputs": [
    {
     "data": {
      "text/plain": [
       "array([2, 2, 2])"
      ]
     },
     "execution_count": 23,
     "metadata": {},
     "output_type": "execute_result"
    }
   ],
   "source": [
    "# Print 2 2 2\n",
    "m[1,1]"
   ]
  },
  {
   "cell_type": "code",
   "execution_count": 24,
   "id": "e8be60f5",
   "metadata": {},
   "outputs": [
    {
     "name": "stdout",
     "output_type": "stream",
     "text": [
      "[['1' '2' '3']\n",
      " ['a' 'b' 'c']\n",
      " ['-11' '12.49' '0']]\n",
      "(3, 3)\n",
      "2\n",
      "9\n"
     ]
    }
   ],
   "source": [
    "# Array of multi Data type\n",
    "\n",
    "arr = np.array([[1,2,3],[\"a\",\"b\",\"c\"],[-11,12.49,0]])\n",
    "print(arr)\n",
    "print(arr.shape)\n",
    "print(arr.ndim)\n",
    "print(arr.size)"
   ]
  },
  {
   "cell_type": "code",
   "execution_count": 25,
   "id": "d292fd2c",
   "metadata": {},
   "outputs": [
    {
     "name": "stdout",
     "output_type": "stream",
     "text": [
      "12.49\n",
      "a\n"
     ]
    }
   ],
   "source": [
    "print(arr[2,1])\n",
    "print(arr[1,0])\n"
   ]
  },
  {
   "cell_type": "code",
   "execution_count": 26,
   "id": "432698e1",
   "metadata": {},
   "outputs": [
    {
     "name": "stdout",
     "output_type": "stream",
     "text": [
      "<U1\n"
     ]
    }
   ],
   "source": [
    "print(arr[0][0].dtype)"
   ]
  },
  {
   "cell_type": "code",
   "execution_count": 27,
   "id": "206ecbec",
   "metadata": {},
   "outputs": [
    {
     "name": "stdout",
     "output_type": "stream",
     "text": [
      "2\n"
     ]
    }
   ],
   "source": [
    "print(arr[0,1])"
   ]
  },
  {
   "cell_type": "code",
   "execution_count": 28,
   "id": "7d42151f",
   "metadata": {},
   "outputs": [
    {
     "name": "stdout",
     "output_type": "stream",
     "text": [
      "[[1 1 1 1 1]\n",
      " [1 1 1 1 1]\n",
      " [1 1 1 1 1]\n",
      " [1 1 1 1 1]]\n",
      "2\n"
     ]
    }
   ],
   "source": [
    "# USing full\n",
    "\n",
    "arr = np.full((4,5),1)\n",
    "print(arr)\n",
    "print(arr.ndim)"
   ]
  },
  {
   "cell_type": "code",
   "execution_count": 29,
   "id": "e5f953b0",
   "metadata": {},
   "outputs": [
    {
     "data": {
      "text/plain": [
       "array([0, 1, 2, 3, 4, 5, 6, 7, 8, 9])"
      ]
     },
     "execution_count": 29,
     "metadata": {},
     "output_type": "execute_result"
    }
   ],
   "source": [
    "# Using arange()\n",
    "arr_1 =np.arange(10)\n",
    "arr_1"
   ]
  },
  {
   "cell_type": "code",
   "execution_count": 30,
   "id": "804a5e5b",
   "metadata": {},
   "outputs": [
    {
     "name": "stdout",
     "output_type": "stream",
     "text": [
      "[  11   21   31   41   51   61   71   81   91  101  111  121  131  141\n",
      "  151  161  171  181  191  201  211  221  231  241  251  261  271  281\n",
      "  291  301  311  321  331  341  351  361  371  381  391  401  411  421\n",
      "  431  441  451  461  471  481  491  501  511  521  531  541  551  561\n",
      "  571  581  591  601  611  621  631  641  651  661  671  681  691  701\n",
      "  711  721  731  741  751  761  771  781  791  801  811  821  831  841\n",
      "  851  861  871  881  891  901  911  921  931  941  951  961  971  981\n",
      "  991 1001 1011 1021 1031 1041 1051 1061 1071 1081 1091 1101]\n"
     ]
    },
    {
     "data": {
      "text/plain": [
       "110"
      ]
     },
     "execution_count": 30,
     "metadata": {},
     "output_type": "execute_result"
    }
   ],
   "source": [
    "arr_2 =np.arange(11,1111,10)\n",
    "print(arr_2)\n",
    "len(arr_2)"
   ]
  },
  {
   "cell_type": "markdown",
   "id": "3a5249a6",
   "metadata": {},
   "source": [
    "# Maths Operations in Nupy"
   ]
  },
  {
   "cell_type": "code",
   "execution_count": 31,
   "id": "a839fdfb",
   "metadata": {},
   "outputs": [],
   "source": [
    "l1 = [1,2,3,4,5]\n",
    "l2 = [6,7,8,9,0]\n",
    "\n",
    "a1 =np.array(l1)\n",
    "a2 =np.array(l2)"
   ]
  },
  {
   "cell_type": "code",
   "execution_count": 32,
   "id": "28d4c6bc",
   "metadata": {},
   "outputs": [
    {
     "data": {
      "text/plain": [
       "[1, 2, 3, 4, 5, 1, 2, 3, 4, 5, 1, 2, 3, 4, 5, 1, 2, 3, 4, 5, 1, 2, 3, 4, 5]"
      ]
     },
     "execution_count": 32,
     "metadata": {},
     "output_type": "execute_result"
    }
   ],
   "source": [
    "l1*5"
   ]
  },
  {
   "cell_type": "code",
   "execution_count": 33,
   "id": "3aeb3eb2",
   "metadata": {},
   "outputs": [
    {
     "data": {
      "text/plain": [
       "array([ 5, 10, 15, 20, 25])"
      ]
     },
     "execution_count": 33,
     "metadata": {},
     "output_type": "execute_result"
    }
   ],
   "source": [
    "a1*5"
   ]
  },
  {
   "cell_type": "markdown",
   "id": "ba11504a",
   "metadata": {},
   "source": [
    "Append an element"
   ]
  },
  {
   "cell_type": "code",
   "execution_count": 34,
   "id": "d4f20654",
   "metadata": {},
   "outputs": [
    {
     "name": "stdout",
     "output_type": "stream",
     "text": [
      "[1 3 5 7 9]\n"
     ]
    }
   ],
   "source": [
    "x = np.arange(1,10,2)\n",
    "print(x)"
   ]
  },
  {
   "cell_type": "code",
   "execution_count": 35,
   "id": "ed117ffd",
   "metadata": {},
   "outputs": [
    {
     "data": {
      "text/plain": [
       "array([ 1,  3,  5,  7,  9, 11, 12, 13, 14, 15, 16])"
      ]
     },
     "execution_count": 35,
     "metadata": {},
     "output_type": "execute_result"
    }
   ],
   "source": [
    "x = np.append(x,[[11,12,13],[14,15,16]])\n",
    "x\n"
   ]
  },
  {
   "cell_type": "code",
   "execution_count": 36,
   "id": "7133e5e9",
   "metadata": {},
   "outputs": [
    {
     "name": "stdout",
     "output_type": "stream",
     "text": [
      "[ 1  3  5  7  9 11 12 13 14 15 16]\n"
     ]
    }
   ],
   "source": [
    "print(x)"
   ]
  },
  {
   "cell_type": "code",
   "execution_count": 37,
   "id": "c60c36d2",
   "metadata": {},
   "outputs": [
    {
     "data": {
      "text/plain": [
       "array([ 1,  3,  5, 11,  7,  9, 11, 12, 13, 14, 15, 16])"
      ]
     },
     "execution_count": 37,
     "metadata": {},
     "output_type": "execute_result"
    }
   ],
   "source": [
    "x = np.insert(x,3,11)\n",
    "x"
   ]
  },
  {
   "cell_type": "code",
   "execution_count": 38,
   "id": "90eae43a",
   "metadata": {},
   "outputs": [
    {
     "data": {
      "text/plain": [
       "array([ 1,  3,  5, 11,  7, 99, 98, 97,  9, 11, 12, 13, 14, 15, 16])"
      ]
     },
     "execution_count": 38,
     "metadata": {},
     "output_type": "execute_result"
    }
   ],
   "source": [
    "x =  np.insert(x,5,[99,98,97])\n",
    "x"
   ]
  },
  {
   "cell_type": "markdown",
   "id": "208f89b8",
   "metadata": {},
   "source": [
    "copy Array"
   ]
  },
  {
   "cell_type": "code",
   "execution_count": 39,
   "id": "965c3ba8",
   "metadata": {},
   "outputs": [
    {
     "name": "stdout",
     "output_type": "stream",
     "text": [
      "[[[ 1  2  3  4  5]\n",
      "  [11 22 33 44 55]]\n",
      "\n",
      " [[21 31 41 51 61]\n",
      "  [11 22 33 44 55]]]\n",
      "3\n"
     ]
    }
   ],
   "source": [
    "arr_1 = np.array([[[1,2,3,4,5],[11,22,33,44,55]],[[21,31,41,51,61],[11,22,33,44,55]]])\n",
    "print(arr_1)\n",
    "print(arr_1.ndim)"
   ]
  },
  {
   "cell_type": "code",
   "execution_count": 40,
   "id": "75522bbf",
   "metadata": {},
   "outputs": [
    {
     "name": "stdout",
     "output_type": "stream",
     "text": [
      "[[[ 1  2  3  4  5]\n",
      "  [11 22 33 44 55]]\n",
      "\n",
      " [[21 31 41 51 61]\n",
      "  [11 22 33 44 55]]]\n"
     ]
    }
   ],
   "source": [
    "x =np.copy(arr_1)\n",
    "print(x)"
   ]
  },
  {
   "cell_type": "code",
   "execution_count": 41,
   "id": "fadf1f63",
   "metadata": {},
   "outputs": [
    {
     "name": "stdout",
     "output_type": "stream",
     "text": [
      "[[[  2   4   6   8  10]\n",
      "  [ 22  44  66  88 110]]\n",
      "\n",
      " [[ 42  62  82 102 122]\n",
      "  [ 22  44  66  88 110]]]\n"
     ]
    }
   ],
   "source": [
    "y = arr_1 + x\n",
    "print(y)"
   ]
  },
  {
   "cell_type": "code",
   "execution_count": 42,
   "id": "63fbea71",
   "metadata": {},
   "outputs": [
    {
     "data": {
      "text/plain": [
       "(2, 2, 5)"
      ]
     },
     "execution_count": 42,
     "metadata": {},
     "output_type": "execute_result"
    }
   ],
   "source": [
    "y.shape"
   ]
  },
  {
   "cell_type": "markdown",
   "id": "a14f1fec",
   "metadata": {},
   "source": [
    "***Reshape***"
   ]
  },
  {
   "cell_type": "code",
   "execution_count": 43,
   "id": "51d84c33",
   "metadata": {},
   "outputs": [
    {
     "data": {
      "text/plain": [
       "array([[[  2,   4,   6,   8,  10],\n",
       "        [ 22,  44,  66,  88, 110]],\n",
       "\n",
       "       [[ 42,  62,  82, 102, 122],\n",
       "        [ 22,  44,  66,  88, 110]]])"
      ]
     },
     "execution_count": 43,
     "metadata": {},
     "output_type": "execute_result"
    }
   ],
   "source": [
    "y.reshape(2,10)\n",
    "y"
   ]
  },
  {
   "cell_type": "code",
   "execution_count": 44,
   "id": "49abcfa8",
   "metadata": {},
   "outputs": [
    {
     "name": "stdout",
     "output_type": "stream",
     "text": [
      "[[  2   4   6   8  10]\n",
      " [ 22  44  66  88 110]]\n",
      "[[ 42  62  82 102 122]\n",
      " [ 22  44  66  88 110]]\n"
     ]
    }
   ],
   "source": [
    "for x in y:\n",
    "    print(x)"
   ]
  },
  {
   "cell_type": "markdown",
   "id": "9e4c2be0",
   "metadata": {},
   "source": [
    "**Joining Array**"
   ]
  },
  {
   "cell_type": "code",
   "execution_count": 47,
   "id": "8a7bd91d",
   "metadata": {},
   "outputs": [
    {
     "name": "stdout",
     "output_type": "stream",
     "text": [
      "[[ 1  2  3  4]\n",
      " [11 22 33 44]]\n",
      "2\n",
      "(2, 4)\n"
     ]
    }
   ],
   "source": [
    "a1 = np.array([[1,2,3,4],[11,22,33,44]])\n",
    "print(a1)\n",
    "print(a1.ndim)\n",
    "print(a1.shape)"
   ]
  },
  {
   "cell_type": "code",
   "execution_count": 48,
   "id": "7d4883a8",
   "metadata": {},
   "outputs": [
    {
     "name": "stdout",
     "output_type": "stream",
     "text": [
      "[[ 9  8  7  6]\n",
      " [21 22 23 24]]\n",
      "2\n",
      "(2, 4)\n"
     ]
    }
   ],
   "source": [
    "a2 = np.array([[9,8,7,6],[21,22,23,24]])\n",
    "print(a2)\n",
    "print(a2.ndim)\n",
    "print(a2.shape)"
   ]
  },
  {
   "cell_type": "code",
   "execution_count": 50,
   "id": "727b8461",
   "metadata": {},
   "outputs": [
    {
     "name": "stdout",
     "output_type": "stream",
     "text": [
      "[[ 1  2  3  4]\n",
      " [11 22 33 44]\n",
      " [ 9  8  7  6]\n",
      " [21 22 23 24]]\n",
      "2\n",
      "(4, 4)\n"
     ]
    }
   ],
   "source": [
    "newArray = np.concatenate((a1,a2))\n",
    "print(newArray)\n",
    "print(newArray.ndim)\n",
    "print(newArray.shape)"
   ]
  },
  {
   "cell_type": "code",
   "execution_count": 53,
   "id": "f4997d04",
   "metadata": {},
   "outputs": [
    {
     "name": "stdout",
     "output_type": "stream",
     "text": [
      "[[1 2]\n",
      " [3 4]\n",
      " [5 6]\n",
      " [7 8]]\n",
      "(4, 2)\n"
     ]
    }
   ],
   "source": [
    "arr1 = np.array([[1, 2], [3, 4]])\n",
    "\n",
    "arr2 = np.array([[5, 6], [7, 8]])\n",
    "\n",
    "arr = np.concatenate((arr1, arr2))\n",
    "\n",
    "print(arr)\n",
    "print(arr.shape)"
   ]
  },
  {
   "cell_type": "code",
   "execution_count": 54,
   "id": "4fac9645",
   "metadata": {},
   "outputs": [
    {
     "name": "stdout",
     "output_type": "stream",
     "text": [
      "[[1 2 5 6]\n",
      " [3 4 7 8]]\n",
      "(2, 4)\n"
     ]
    }
   ],
   "source": [
    "arr1 = np.array([[1, 2], [3, 4]])\n",
    "\n",
    "arr2 = np.array([[5, 6], [7, 8]])\n",
    "\n",
    "arr = np.concatenate((arr1, arr2),axis=1)\n",
    "\n",
    "print(arr)\n",
    "print(arr.shape)"
   ]
  },
  {
   "cell_type": "markdown",
   "id": "ccfce4ed",
   "metadata": {},
   "source": [
    "*** Stack***"
   ]
  },
  {
   "cell_type": "code",
   "execution_count": 55,
   "id": "1b42040a",
   "metadata": {},
   "outputs": [
    {
     "name": "stdout",
     "output_type": "stream",
     "text": [
      "[[1 4]\n",
      " [2 5]\n",
      " [3 6]]\n"
     ]
    }
   ],
   "source": [
    "arr1 = np.array([1, 2, 3])\n",
    "\n",
    "arr2 = np.array([4, 5, 6])\n",
    "\n",
    "arr = np.stack((arr1, arr2), axis=1)\n",
    "\n",
    "print(arr)"
   ]
  },
  {
   "cell_type": "code",
   "execution_count": 56,
   "id": "ae117b1c",
   "metadata": {},
   "outputs": [
    {
     "name": "stdout",
     "output_type": "stream",
     "text": [
      "[[1 2 3]\n",
      " [4 5 6]]\n"
     ]
    }
   ],
   "source": [
    "arr1 = np.array([1, 2, 3])\n",
    "\n",
    "arr2 = np.array([4, 5, 6])\n",
    "\n",
    "arr = np.stack((arr1, arr2))\n",
    "\n",
    "print(arr)"
   ]
  },
  {
   "cell_type": "markdown",
   "id": "6cc65216",
   "metadata": {},
   "source": [
    "Trying all the Joining Methods one by one."
   ]
  },
  {
   "cell_type": "code",
   "execution_count": 57,
   "id": "ddfc44e9",
   "metadata": {},
   "outputs": [
    {
     "name": "stdout",
     "output_type": "stream",
     "text": [
      "Array a is:\n",
      " [[1 2 3 4 5]\n",
      " [6 7 8 9 0]]\n",
      "Array b is:\n",
      " [[11 12 13 14 15]\n",
      " [16 17 18 19 20]]\n"
     ]
    }
   ],
   "source": [
    "a = np.array([[1,2,3,4,5],[6,7,8,9,0]])\n",
    "b = np.array([[11,12,13,14,15],[16,17,18,19,20]])\n",
    "\n",
    "print(f\"Array a is:\\n {a}\")\n",
    "print(f\"Array b is:\\n {b}\")\n"
   ]
  },
  {
   "cell_type": "markdown",
   "id": "d23b48fd",
   "metadata": {},
   "source": [
    "***concatenate()***"
   ]
  },
  {
   "cell_type": "code",
   "execution_count": 64,
   "id": "704183fc",
   "metadata": {},
   "outputs": [
    {
     "name": "stdout",
     "output_type": "stream",
     "text": [
      "Array c is:\n",
      " [[ 1  2  3  4  5]\n",
      " [ 6  7  8  9  0]\n",
      " [11 12 13 14 15]\n",
      " [16 17 18 19 20]]\n",
      "Shape of c is (4, 5)\n"
     ]
    }
   ],
   "source": [
    "c = np.concatenate((a,b),axis =0)\n",
    "print(f\"Array c is:\\n {c}\")\n",
    "print(f\"Shape of c is {c.shape}\")\n"
   ]
  },
  {
   "cell_type": "code",
   "execution_count": 65,
   "id": "b7ad4e5e",
   "metadata": {},
   "outputs": [
    {
     "name": "stdout",
     "output_type": "stream",
     "text": [
      "Array c is:\n",
      " [[ 1  2  3  4  5 11 12 13 14 15]\n",
      " [ 6  7  8  9  0 16 17 18 19 20]]\n",
      "Shape of c is (2, 10)\n"
     ]
    }
   ],
   "source": [
    "c = np.concatenate((a,b),axis =1)\n",
    "print(f\"Array c is:\\n {c}\")\n",
    "print(f\"Shape of c is {c.shape}\")"
   ]
  },
  {
   "cell_type": "markdown",
   "id": "a42f323d",
   "metadata": {},
   "source": [
    "***stack()***"
   ]
  },
  {
   "cell_type": "code",
   "execution_count": 66,
   "id": "efda39ad",
   "metadata": {},
   "outputs": [
    {
     "name": "stdout",
     "output_type": "stream",
     "text": [
      "Array c is:\n",
      " [[[ 1  2  3  4  5]\n",
      "  [ 6  7  8  9  0]]\n",
      "\n",
      " [[11 12 13 14 15]\n",
      "  [16 17 18 19 20]]]\n",
      "Shape of c is (2, 2, 5)\n"
     ]
    }
   ],
   "source": [
    "c = np.stack((a,b),axis =0)\n",
    "print(f\"Array c is:\\n {c}\")\n",
    "print(f\"Shape of c is {c.shape}\")"
   ]
  },
  {
   "cell_type": "code",
   "execution_count": 67,
   "id": "42add2cc",
   "metadata": {},
   "outputs": [
    {
     "name": "stdout",
     "output_type": "stream",
     "text": [
      "Array c is:\n",
      " [[[ 1  2  3  4  5]\n",
      "  [11 12 13 14 15]]\n",
      "\n",
      " [[ 6  7  8  9  0]\n",
      "  [16 17 18 19 20]]]\n",
      "Shape of c is (2, 2, 5)\n"
     ]
    }
   ],
   "source": [
    "c = np.stack((a,b),axis =1)\n",
    "print(f\"Array c is:\\n {c}\")\n",
    "print(f\"Shape of c is {c.shape}\")"
   ]
  },
  {
   "cell_type": "markdown",
   "id": "920f45c1",
   "metadata": {},
   "source": [
    "***hstack()***"
   ]
  },
  {
   "cell_type": "code",
   "execution_count": 68,
   "id": "9ae7e46e",
   "metadata": {},
   "outputs": [
    {
     "name": "stdout",
     "output_type": "stream",
     "text": [
      "Array c is:\n",
      " [[ 1  2  3  4  5 11 12 13 14 15]\n",
      " [ 6  7  8  9  0 16 17 18 19 20]]\n",
      "Shape of c is (2, 10)\n"
     ]
    }
   ],
   "source": [
    "c = np.hstack((a,b))\n",
    "print(f\"Array c is:\\n {c}\")\n",
    "print(f\"Shape of c is {c.shape}\")"
   ]
  },
  {
   "cell_type": "markdown",
   "id": "8463f82b",
   "metadata": {},
   "source": [
    "***vstack()***"
   ]
  },
  {
   "cell_type": "code",
   "execution_count": 70,
   "id": "6d78e9ad",
   "metadata": {},
   "outputs": [
    {
     "name": "stdout",
     "output_type": "stream",
     "text": [
      "Array c is:\n",
      " [[ 1  2  3  4  5]\n",
      " [ 6  7  8  9  0]\n",
      " [11 12 13 14 15]\n",
      " [16 17 18 19 20]]\n",
      "Shape of c is (4, 5)\n"
     ]
    }
   ],
   "source": [
    "c = np.vstack((a,b))\n",
    "print(f\"Array c is:\\n {c}\")\n",
    "print(f\"Shape of c is {c.shape}\")"
   ]
  },
  {
   "cell_type": "markdown",
   "id": "27959444",
   "metadata": {},
   "source": [
    "***dstack()***"
   ]
  },
  {
   "cell_type": "code",
   "execution_count": 73,
   "id": "f706ccef",
   "metadata": {},
   "outputs": [
    {
     "name": "stdout",
     "output_type": "stream",
     "text": [
      "Array c is:\n",
      " [[ 1  2  3  4  5]\n",
      " [ 6  7  8  9  0]\n",
      " [11 12 13 14 15]\n",
      " [16 17 18 19 20]]\n",
      "Shape of c is (4, 5)\n"
     ]
    }
   ],
   "source": [
    "c = np.vstack((a,b))\n",
    "print(f\"Array c is:\\n {c}\")\n",
    "print(f\"Shape of c is {c.shape}\")"
   ]
  },
  {
   "cell_type": "markdown",
   "id": "14f962d3",
   "metadata": {},
   "source": [
    "***array_split()***"
   ]
  },
  {
   "cell_type": "code",
   "execution_count": 83,
   "id": "95a0fbe1",
   "metadata": {},
   "outputs": [
    {
     "name": "stdout",
     "output_type": "stream",
     "text": [
      "[1 2 3 4 5 6 7 8]\n",
      "(8,)\n"
     ]
    }
   ],
   "source": [
    "a = np.array([1,2,3,4,5,6,7,8])\n",
    "print(a)\n",
    "print(a.shape)"
   ]
  },
  {
   "cell_type": "code",
   "execution_count": 84,
   "id": "5ffe9977",
   "metadata": {},
   "outputs": [
    {
     "name": "stdout",
     "output_type": "stream",
     "text": [
      "[array([1, 2, 3, 4]), array([5, 6, 7, 8])]\n"
     ]
    }
   ],
   "source": [
    "m =  np.array_split(a,2)\n",
    "print(m)"
   ]
  },
  {
   "cell_type": "code",
   "execution_count": 85,
   "id": "c60975cf",
   "metadata": {},
   "outputs": [
    {
     "name": "stdout",
     "output_type": "stream",
     "text": [
      "[array([1, 2, 3]), array([4, 5, 6]), array([7, 8])]\n"
     ]
    }
   ],
   "source": [
    "m =  np.array_split(a,3)\n",
    "print(m)"
   ]
  },
  {
   "cell_type": "code",
   "execution_count": 86,
   "id": "448fe0a2",
   "metadata": {},
   "outputs": [
    {
     "name": "stdout",
     "output_type": "stream",
     "text": [
      "[array([1, 2]), array([3, 4]), array([5, 6]), array([7, 8])]\n"
     ]
    }
   ],
   "source": [
    "m =  np.array_split(a,4)\n",
    "print(m)"
   ]
  },
  {
   "cell_type": "code",
   "execution_count": 87,
   "id": "654181ae",
   "metadata": {},
   "outputs": [
    {
     "name": "stdout",
     "output_type": "stream",
     "text": [
      "[array([1, 2]), array([3, 4]), array([5]), array([6]), array([7]), array([8])]\n"
     ]
    }
   ],
   "source": [
    "m =  np.array_split(a,6)\n",
    "print(m)"
   ]
  },
  {
   "cell_type": "markdown",
   "id": "beca2459",
   "metadata": {},
   "source": [
    "***Using array_split() in 2D array***"
   ]
  },
  {
   "cell_type": "code",
   "execution_count": 88,
   "id": "0e0d6d10",
   "metadata": {},
   "outputs": [
    {
     "name": "stdout",
     "output_type": "stream",
     "text": [
      "[[ 1  2  3  4  5]\n",
      " [11 22 33 44 55]]\n",
      "(2, 5)\n"
     ]
    }
   ],
   "source": [
    "x = np.array([[1,2,3,4,5],[11,22,33,44,55]])\n",
    "print(x)\n",
    "print(x.shape)"
   ]
  },
  {
   "cell_type": "code",
   "execution_count": 90,
   "id": "033a26ff",
   "metadata": {},
   "outputs": [
    {
     "name": "stdout",
     "output_type": "stream",
     "text": [
      "[array([[1, 2, 3, 4, 5]]), array([[11, 22, 33, 44, 55]])]\n"
     ]
    }
   ],
   "source": [
    "y = np.array_split(x,2)\n",
    "print(y)"
   ]
  },
  {
   "cell_type": "code",
   "execution_count": 93,
   "id": "bddf32e8",
   "metadata": {},
   "outputs": [
    {
     "name": "stdout",
     "output_type": "stream",
     "text": [
      "[array([[1, 2, 3, 4, 5]]), array([[11, 22, 33, 44, 55]]), array([], shape=(0, 5), dtype=int32)]\n"
     ]
    }
   ],
   "source": [
    "y = np.array_split(x,3)\n",
    "print(y)\n"
   ]
  },
  {
   "cell_type": "code",
   "execution_count": 94,
   "id": "22a2c832",
   "metadata": {},
   "outputs": [
    {
     "name": "stdout",
     "output_type": "stream",
     "text": [
      "[array([[1, 2, 3, 4, 5]]), array([[11, 22, 33, 44, 55]]), array([], shape=(0, 5), dtype=int32), array([], shape=(0, 5), dtype=int32)]\n"
     ]
    }
   ],
   "source": [
    "y = np.array_split(x,4)\n",
    "print(y)\n"
   ]
  },
  {
   "cell_type": "markdown",
   "id": "66d41942",
   "metadata": {},
   "source": [
    "*** Searching using where() ***"
   ]
  },
  {
   "cell_type": "code",
   "execution_count": 95,
   "id": "ca925376",
   "metadata": {},
   "outputs": [
    {
     "name": "stdout",
     "output_type": "stream",
     "text": [
      "[[ 1  2  3  4  5]\n",
      " [11 22 33 44 55]]\n",
      "(2, 5)\n"
     ]
    }
   ],
   "source": [
    "x = np.array([[1,2,3,4,5],[11,22,33,44,55]])\n",
    "print(x)\n",
    "print(x.shape)"
   ]
  },
  {
   "cell_type": "code",
   "execution_count": 97,
   "id": "cb7bdc5c",
   "metadata": {},
   "outputs": [
    {
     "name": "stdout",
     "output_type": "stream",
     "text": [
      "(array([1], dtype=int64), array([2], dtype=int64))\n"
     ]
    }
   ],
   "source": [
    "y = np.where(x==33)\n",
    "print(y)"
   ]
  },
  {
   "cell_type": "code",
   "execution_count": 98,
   "id": "1d285327",
   "metadata": {},
   "outputs": [
    {
     "name": "stdout",
     "output_type": "stream",
     "text": [
      "(array([0], dtype=int64), array([4], dtype=int64))\n"
     ]
    }
   ],
   "source": [
    "y = np.where(x==5)\n",
    "print(y)"
   ]
  },
  {
   "cell_type": "markdown",
   "id": "fed3d3eb",
   "metadata": {},
   "source": [
    "Searching even elements"
   ]
  },
  {
   "cell_type": "code",
   "execution_count": 99,
   "id": "55c9e26e",
   "metadata": {},
   "outputs": [
    {
     "name": "stdout",
     "output_type": "stream",
     "text": [
      "(array([0, 0, 1, 1], dtype=int64), array([1, 3, 1, 3], dtype=int64))\n"
     ]
    }
   ],
   "source": [
    "y = np.where(x%2==0)\n",
    "print(y)"
   ]
  },
  {
   "cell_type": "markdown",
   "id": "f1908d87",
   "metadata": {},
   "source": [
    "Searching even elements"
   ]
  },
  {
   "cell_type": "code",
   "execution_count": 100,
   "id": "c8b6a46d",
   "metadata": {},
   "outputs": [
    {
     "name": "stdout",
     "output_type": "stream",
     "text": [
      "(array([0, 0, 0, 1, 1, 1], dtype=int64), array([0, 2, 4, 0, 2, 4], dtype=int64))\n"
     ]
    }
   ],
   "source": [
    "y = np.where(x%2!=0)\n",
    "print(y)"
   ]
  },
  {
   "cell_type": "markdown",
   "id": "310c7141",
   "metadata": {},
   "source": [
    "***Sort()***"
   ]
  },
  {
   "cell_type": "code",
   "execution_count": 103,
   "id": "637a1763",
   "metadata": {},
   "outputs": [
    {
     "name": "stdout",
     "output_type": "stream",
     "text": [
      "[[ 4  1  3  5  2]\n",
      " [44 11 22 55 33]]\n"
     ]
    }
   ],
   "source": [
    "x = np.array([[4,1,3,5,2],[44,11,22,55,33]])\n",
    "print(x)"
   ]
  },
  {
   "cell_type": "code",
   "execution_count": 104,
   "id": "d4b93fb3",
   "metadata": {},
   "outputs": [
    {
     "name": "stdout",
     "output_type": "stream",
     "text": [
      "[[ 1  2  3  4  5]\n",
      " [11 22 33 44 55]]\n"
     ]
    }
   ],
   "source": [
    "y = np.sort(x)\n",
    "print(y)"
   ]
  }
 ],
 "metadata": {
  "kernelspec": {
   "display_name": "Python 3 (ipykernel)",
   "language": "python",
   "name": "python3"
  },
  "language_info": {
   "codemirror_mode": {
    "name": "ipython",
    "version": 3
   },
   "file_extension": ".py",
   "mimetype": "text/x-python",
   "name": "python",
   "nbconvert_exporter": "python",
   "pygments_lexer": "ipython3",
   "version": "3.9.13"
  }
 },
 "nbformat": 4,
 "nbformat_minor": 5
}
